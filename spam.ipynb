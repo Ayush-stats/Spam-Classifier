{
 "cells": [
  {
   "cell_type": "code",
   "execution_count": 24,
   "metadata": {},
   "outputs": [],
   "source": [
    "# !pip install plotly\n",
    "# !pip install nltk\n",
    "# !pip install seaborn\n",
    "# !pip install imblearn"
   ]
  },
  {
   "cell_type": "code",
   "execution_count": 25,
   "metadata": {
    "cell_id": "8737ec645ce44388bf8a579eae01a039",
    "deepnote_app_coordinates": {
     "h": 5,
     "w": 12,
     "x": 0,
     "y": 1
    },
    "deepnote_app_is_code_hidden": false,
    "deepnote_cell_type": "code",
    "deepnote_to_be_reexecuted": false,
    "execution_millis": 23624,
    "execution_start": 1666880191517,
    "source_hash": "af38cd7a",
    "tags": []
   },
   "outputs": [
    {
     "name": "stderr",
     "output_type": "stream",
     "text": [
      "[nltk_data] Downloading package wordnet to /home/ayush/nltk_data...\n",
      "[nltk_data]   Package wordnet is already up-to-date!\n",
      "[nltk_data] Downloading package omw-1.4 to /home/ayush/nltk_data...\n",
      "[nltk_data]   Package omw-1.4 is already up-to-date!\n"
     ]
    },
    {
     "data": {
      "text/plain": [
       "True"
      ]
     },
     "execution_count": 25,
     "metadata": {},
     "output_type": "execute_result"
    }
   ],
   "source": [
    "import pandas as pd\n",
    "import numpy as np\n",
    "df= pd.read_csv(\"SMSSpamCollection.csv\", sep='\\t', names=['label', 'messages'])\n",
    "\n",
    "import nltk\n",
    "from nltk.stem import WordNetLemmatizer\n",
    "from nltk.corpus import stopwords\n",
    "import string\n",
    "nltk.download('wordnet')\n",
    "nltk.download('omw-1.4')"
   ]
  },
  {
   "cell_type": "code",
   "execution_count": 26,
   "metadata": {
    "cell_id": "f3a55edd42774a699f9342eee87092fa",
    "deepnote_cell_type": "code",
    "deepnote_to_be_reexecuted": false,
    "execution_millis": 3,
    "execution_start": 1666880215150,
    "owner_user_id": "9d6ec0fc-2ef5-4f19-9aad-b9e4bb09a3da",
    "source_hash": "14f60b8f",
    "tags": []
   },
   "outputs": [
    {
     "data": {
      "text/plain": [
       "(5572, 2)"
      ]
     },
     "execution_count": 26,
     "metadata": {},
     "output_type": "execute_result"
    }
   ],
   "source": [
    "df.shape"
   ]
  },
  {
   "cell_type": "code",
   "execution_count": 27,
   "metadata": {
    "cell_id": "a4210f3924444041b8ab7b3ff32e9fbd",
    "deepnote_cell_type": "code",
    "deepnote_to_be_reexecuted": false,
    "execution_millis": 106,
    "execution_start": 1666880215197,
    "source_hash": "589e19f6",
    "tags": []
   },
   "outputs": [
    {
     "data": {
      "text/plain": [
       "403"
      ]
     },
     "execution_count": 27,
     "metadata": {},
     "output_type": "execute_result"
    }
   ],
   "source": [
    "df.duplicated().sum()\n"
   ]
  },
  {
   "cell_type": "code",
   "execution_count": 28,
   "metadata": {
    "cell_id": "6efcb964b9e6491c877e6281690b86bc",
    "deepnote_cell_type": "code",
    "deepnote_to_be_reexecuted": false,
    "execution_millis": 61,
    "execution_start": 1666880215302,
    "source_hash": "9824526a",
    "tags": []
   },
   "outputs": [],
   "source": [
    "df.drop_duplicates(keep='first', inplace=True)"
   ]
  },
  {
   "cell_type": "code",
   "execution_count": 29,
   "metadata": {
    "cell_id": "a429b9e1533e4fae843d581f1412a082",
    "deepnote_cell_type": "code",
    "deepnote_to_be_reexecuted": false,
    "execution_millis": 2549,
    "execution_start": 1666880215493,
    "source_hash": "67928f2d",
    "tags": []
   },
   "outputs": [],
   "source": [
    "\n",
    "\n",
    "import seaborn as sns\n",
    "import matplotlib.pyplot as plt\n",
    "\n"
   ]
  },
  {
   "cell_type": "code",
   "execution_count": 30,
   "metadata": {},
   "outputs": [
    {
     "data": {
      "image/png": "[encoded data removed]",
      "text/plain": [
       "<Figure size 640x480 with 1 Axes>"
      ]
     },
     "metadata": {},
     "output_type": "display_data"
    }
   ],
   "source": [
    "sns.countplot(x='label',data=df)\n",
    "plt.show()\n"
   ]
  },
  {
   "cell_type": "markdown",
   "metadata": {
    "cell_id": "1125d33dd2644a0b8c1e70998f82cb6e",
    "deepnote_cell_type": "text-cell-p",
    "formattedRanges": [],
    "is_collapsed": false,
    "tags": []
   },
   "source": [
    "SMOTE (Synthetic Minority Over-sampling Technique) is an algorithm for oversampling in unbalanced datasets. It generates synthetic data samples of the minority class by interpolating between existing minority class instances. The algorithm selects two or more nearest neighbors of a minority class instance and then generates a synthetic sample by interpolating between the selected instances. The new samples are added to the original dataset to balance the class distribution."
   ]
  },
  {
   "cell_type": "code",
   "execution_count": 31,
   "metadata": {
    "cell_id": "1dbe90f1133a4a94bbd4618c8a37a55c",
    "deepnote_cell_type": "code",
    "deepnote_to_be_reexecuted": false,
    "execution_millis": 3105232173,
    "execution_start": 1666880218050,
    "source_hash": "29b77c5a",
    "tags": []
   },
   "outputs": [],
   "source": [
    "def text_process(text):\n",
    "    text = text.lower()\n",
    "    text = nltk.word_tokenize(text)\n",
    "    text = [i for i in text if i not in stopwords.words('english')]\n",
    "    text = [i for i in text if i not in string.punctuation]\n",
    "    text = [i for i in text if i.isalnum()]\n",
    "    text = [WordNetLemmatizer().lemmatize(i) for i in text]\n",
    "    return \" \".join(text)\n"
   ]
  },
  {
   "cell_type": "markdown",
   "metadata": {
    "cell_id": "0a5ea35992e14c1f98e42e7a23f22418",
    "deepnote_cell_type": "text-cell-p",
    "formattedRanges": [],
    "is_collapsed": false,
    "tags": []
   },
   "source": [
    "Lemmatization is a process of reducing a word to its base form, called a lemma, while considering the context in which the word appears. The goal of lemmatization is to group together different inflected forms of a word so they can be analyzed as a single item, allowing for better text analysis and natural language processing."
   ]
  },
  {
   "cell_type": "markdown",
   "metadata": {
    "cell_id": "3fea127b-07db-4ac8-8046-30dc46f73490",
    "deepnote_cell_type": "text-cell-p",
    "formattedRanges": [],
    "is_collapsed": false,
    "tags": []
   },
   "source": [
    "Lemmatization is different from stemming, which involves removing the suffixes of a word to reduce it to its root form without considering context, which often results in words with a different meaning. Lemmatization uses a dictionary or a morphological analysis to determine the correct lemma for a word."
   ]
  },
  {
   "cell_type": "code",
   "execution_count": 32,
   "metadata": {
    "cell_id": "942944bf5fb7423187687648f1c1e6c4",
    "deepnote_cell_type": "code",
    "deepnote_to_be_reexecuted": false,
    "execution_millis": 69,
    "execution_start": 1666880218097,
    "source_hash": "ee6b77af",
    "tags": []
   },
   "outputs": [],
   "source": [
    "temp_1 = pd.get_dummies(df['label'],drop_first=True)"
   ]
  },
  {
   "cell_type": "code",
   "execution_count": 33,
   "metadata": {
    "cell_id": "819e512fa8764b40a39cd1b9ab692356",
    "deepnote_cell_type": "code",
    "deepnote_to_be_reexecuted": false,
    "execution_millis": 48,
    "execution_start": 1666880218209,
    "source_hash": "aca6906e",
    "tags": []
   },
   "outputs": [],
   "source": [
    "df = pd.concat([df, temp_1], axis=1)\n",
    "df.drop(columns='label', inplace=True)"
   ]
  },
  {
   "cell_type": "code",
   "execution_count": 34,
   "metadata": {
    "cell_id": "886f67c03cc54d738fdcb7974554b6a3",
    "deepnote_cell_type": "code",
    "deepnote_to_be_reexecuted": false,
    "execution_millis": 15620,
    "execution_start": 1666880218257,
    "source_hash": "e156e2cc",
    "tags": []
   },
   "outputs": [],
   "source": [
    "df['Transformed_Message'] = df['messages'].apply(text_process)"
   ]
  },
  {
   "cell_type": "code",
   "execution_count": 35,
   "metadata": {
    "cell_id": "abd1f8e6f6444a9d9e7418b49c1b7bb4",
    "deepnote_cell_type": "code",
    "deepnote_to_be_reexecuted": false,
    "execution_millis": 120,
    "execution_start": 1666880233883,
    "source_hash": "9c9d5b9d",
    "tags": []
   },
   "outputs": [],
   "source": [
    "from sklearn.metrics import accuracy_score,f1_score, recall_score, precision_score,confusion_matrix\n",
    "from sklearn.model_selection import cross_val_score\n",
    "from sklearn.neighbors import KNeighborsClassifier\n",
    "from sklearn.naive_bayes import GaussianNB,MultinomialNB,BernoulliNB\n",
    "from sklearn.linear_model import LogisticRegression"
   ]
  },
  {
   "cell_type": "markdown",
   "metadata": {
    "cell_id": "4caecd3a960b44aab82a464d88a6934e",
    "deepnote_cell_type": "text-cell-p",
    "formattedRanges": [],
    "is_collapsed": false,
    "tags": []
   },
   "source": [
    "Generative models focus on the distribution of individual classes in a dataset and the learning algorithms tend to model the underlying patterns or distribution of the data points"
   ]
  },
  {
   "cell_type": "code",
   "execution_count": 36,
   "metadata": {
    "cell_id": "70faa7c5e99d450da68267c8ab776cf6",
    "deepnote_cell_type": "code",
    "deepnote_to_be_reexecuted": false,
    "execution_millis": 171,
    "execution_start": 1666880234054,
    "source_hash": "a3b3d419",
    "tags": []
   },
   "outputs": [],
   "source": [
    "from sklearn.feature_extraction.text import TfidfVectorizer\n",
    "tv =  TfidfVectorizer()\n",
    "\n",
    "X = pd.DataFrame(tv.fit_transform(df['Transformed_Message']).toarray())"
   ]
  },
  {
   "cell_type": "code",
   "execution_count": 37,
   "metadata": {
    "cell_id": "44f5ce0635784a69a9cc67c4032ccbad",
    "deepnote_cell_type": "code",
    "deepnote_to_be_reexecuted": false,
    "execution_millis": 3105321673,
    "execution_start": 1666880373924,
    "source_hash": "ec10b894",
    "tags": []
   },
   "outputs": [],
   "source": [
    "y=df['spam'].values"
   ]
  },
  {
   "cell_type": "code",
   "execution_count": 38,
   "metadata": {
    "cell_id": "46187b2e21844054bb89045d69714c01",
    "deepnote_cell_type": "code",
    "deepnote_to_be_reexecuted": false,
    "execution_millis": 853,
    "execution_start": 1666880373926,
    "source_hash": "84331cda",
    "tags": []
   },
   "outputs": [],
   "source": [
    "from sklearn.model_selection import train_test_split\n",
    "X_train, X_test, y_train, y_test = train_test_split(X, y, test_size=0.33, random_state=101)"
   ]
  },
  {
   "cell_type": "code",
   "execution_count": 39,
   "metadata": {
    "cell_id": "059e88a2df6f44c3acb08e06c31740a4",
    "deepnote_cell_type": "code",
    "deepnote_to_be_reexecuted": false,
    "execution_millis": 17038,
    "execution_start": 1666880373928,
    "source_hash": "a77e026f",
    "tags": []
   },
   "outputs": [
    {
     "name": "stdout",
     "output_type": "stream",
     "text": [
      "Original dataset shape Counter({0: 4516, 1: 653})\n",
      "Resampled dataset shape Counter({0: 3053, 1: 3053})\n"
     ]
    }
   ],
   "source": [
    "from imblearn.combine import SMOTETomek\n",
    "\n",
    "smk = SMOTETomek()\n",
    "X_res,y_res=smk.fit_resample(X_train,y_train)\n",
    "X_res.shape,y_res.shape\n",
    "from collections import Counter\n",
    "print('Original dataset shape {}'.format(Counter(y)))\n",
    "print('Resampled dataset shape {}'.format(Counter(y_res)))"
   ]
  },
  {
   "cell_type": "code",
   "execution_count": 40,
   "metadata": {
    "cell_id": "2c8c303f7ce34d4ea56fe9e4d4b77933",
    "deepnote_cell_type": "code",
    "deepnote_to_be_reexecuted": true,
    "execution_millis": 4311,
    "execution_start": 1663775017944,
    "source_hash": "1ca19b90",
    "tags": []
   },
   "outputs": [
    {
     "name": "stdout",
     "output_type": "stream",
     "text": [
      "Confusion Matrix [[1296  167]\n",
      " [  36  207]]\n",
      "Precision Score 0.553475935828877\n",
      "Accuracy Score: 0.889230162405035\n",
      "F1 score: 0.6709886547811994\n",
      "Train:  0.9425353739532197\n",
      "Test:  0.8810082063305978\n",
      "F1:  0.6709886547811994\n"
     ]
    }
   ],
   "source": [
    "\n",
    "GNB = GaussianNB()\n",
    "accuracy_GNB = cross_val_score(GNB, X_test, y_test, cv=5)\n",
    "GNB.fit(X_res, y_res)\n",
    "y_pred1 = GNB.predict(X_test)\n",
    "cm1= confusion_matrix(y_test,y_pred1)\n",
    "print(\"Confusion Matrix\", confusion_matrix(y_test,y_pred1))\n",
    "print(\"Precision Score\",precision_score(y_test,y_pred1))\n",
    "print(\"Accuracy Score:\",np.mean(accuracy_GNB))\n",
    "print(\"F1 score:\",f1_score(y_test,y_pred1))\n",
    "print(\"Train: \",GNB.score(X_train,y_train))\n",
    "print(\"Test: \",GNB.score(X_test,y_test))\n",
    "print(\"F1: \",f1_score(y_test,y_pred1))"
   ]
  },
  {
   "cell_type": "code",
   "execution_count": 41,
   "metadata": {
    "cell_id": "2c8e7f242690448ebc02e24e591ee37c",
    "deepnote_cell_type": "code",
    "deepnote_to_be_reexecuted": true,
    "execution_millis": 4118,
    "execution_start": 1663775022261,
    "source_hash": "fd226766",
    "tags": []
   },
   "outputs": [
    {
     "name": "stdout",
     "output_type": "stream",
     "text": [
      "Confusion Matrix [[1415   48]\n",
      " [  12  231]]\n",
      "Precision Score 0.8279569892473119\n",
      "Accuracy Score: 0.910323952598995\n",
      "Train:  0.979497545480797\n",
      "Test:  0.9648300117233294\n",
      "F1:  0.885057471264368\n"
     ]
    }
   ],
   "source": [
    "MNB = MultinomialNB()\n",
    "accuracy_MNB = cross_val_score(MNB, X_test, y_test, cv=5)\n",
    "MNB.fit(X_res, y_res)\n",
    "y_pred2 = MNB.predict(X_test)\n",
    "cm2 = confusion_matrix(y_test,y_pred2)\n",
    "print(\"Confusion Matrix\", confusion_matrix(y_test,y_pred2))\n",
    "print(\"Precision Score\",precision_score(y_test,y_pred2))\n",
    "print(\"Accuracy Score:\",np.mean(accuracy_MNB))\n",
    "print(\"Train: \",MNB.score(X_train,y_train))\n",
    "print(\"Test: \",MNB.score(X_test,y_test))\n",
    "print(\"F1: \",f1_score(y_test,y_pred2))"
   ]
  },
  {
   "cell_type": "code",
   "execution_count": 42,
   "metadata": {
    "cell_id": "9e25b05af3e74c8497669a6947663745",
    "deepnote_cell_type": "code",
    "deepnote_to_be_reexecuted": true,
    "execution_millis": 6948,
    "execution_start": 1663775025647,
    "source_hash": "46de6647",
    "tags": []
   },
   "outputs": [
    {
     "name": "stdout",
     "output_type": "stream",
     "text": [
      "Confusion Matrix [[1463    0]\n",
      " [  34  209]]\n",
      "Precision Score 1.0\n",
      "Accuracy Score: 0.8915641988647082\n",
      "Train:  0.992630199803472\n",
      "Test:  0.9800703399765534\n",
      "F1:  0.9247787610619469\n"
     ]
    }
   ],
   "source": [
    "BNB = BernoulliNB()\n",
    "accuracy_BNB = cross_val_score(BNB, X_test, y_test, cv=5)\n",
    "BNB.fit(X_res, y_res)\n",
    "y_pred3 = BNB.predict(X_test)\n",
    "cm3 = confusion_matrix(y_test,y_pred3)\n",
    "print(\"Confusion Matrix\", confusion_matrix(y_test,y_pred3))\n",
    "print(\"Precision Score\",precision_score(y_test,y_pred3))\n",
    "print(\"Accuracy Score:\",np.mean(accuracy_BNB))\n",
    "print(\"Train: \",BNB.score(X_res,y_res))\n",
    "print(\"Test: \",BNB.score(X_test,y_test))\n",
    "print(\"F1: \",f1_score(y_test,y_pred3))"
   ]
  },
  {
   "cell_type": "code",
   "execution_count": 43,
   "metadata": {},
   "outputs": [],
   "source": [
    "# # Example new email message\n",
    "# new_email = \"You have won a free trip to Hawaii! Click here to claim your prize.\"\n",
    "\n",
    "# transformed_text = text_process(new_email)\n",
    "# # Preprocess and extract features from new email message\n",
    "# new_email_counts = tv.transform([new_email])\n",
    "\n",
    "# # Predict label of new email message\n",
    "# new_email_pred = GNB.predict(new_email_counts)[0]\n",
    "\n",
    "# # Print predicted label\n",
    "# if new_email_pred == 'spam':\n",
    "#     print(\"This email is spam.\")\n",
    "# else:\n",
    "#     print(\"This email is not spam.\")"
   ]
  }
 ],
 "metadata": {
  "deepnote": {},
  "deepnote_app_layout": "dashboard",
  "deepnote_execution_queue": [],
  "deepnote_notebook_id": "3716c392d3554e28af9cdd7f2af975a1",
  "deepnote_persisted_session": {
   "createdAt": "2023-01-23T02:30:20.575Z"
  },
  "kernelspec": {
   "display_name": "base",
   "language": "python",
   "name": "python3"
  },
  "language_info": {
   "codemirror_mode": {
    "name": "ipython",
    "version": 3
   },
   "file_extension": ".py",
   "mimetype": "text/x-python",
   "name": "python",
   "nbconvert_exporter": "python",
   "pygments_lexer": "ipython3",
   "version": "3.9.13"
  },
  "vscode": {
   "interpreter": {
    "hash": "d122ab13f835faa121d8a7e5d099a2a80a429381ec3df188794f6e23031ee3c4"
   }
  }
 },
 "nbformat": 4,
 "nbformat_minor": 1
}
